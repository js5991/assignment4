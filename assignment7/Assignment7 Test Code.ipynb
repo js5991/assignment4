{
 "cells": [
  {
   "cell_type": "code",
   "execution_count": null,
   "metadata": {
    "collapsed": true
   },
   "outputs": [],
   "source": [
    "import re\n",
    "\n",
    "class interval(object):\n",
    "    \"\"\"description of class\"\"\"\n",
    "    def __init__(self, int_str):\n",
    "        pattern = re.compile(r'^[\\[\\(][\\+\\-]?\\d+,[\\+\\-]?\\d+[\\]\\)]$')\n",
    "        if pattern.match(int_str):\n",
    "            nums = int_str[1:-1].split(',')\n",
    "            self.int_str=int_str\n",
    "            self.left_inclusive,self.lower_true,self.lower = (True,int(nums[0]),int(nums[0])) if int_str[0]=='[' else (False,(int(nums[0])+1),int(nums[0]))\n",
    "            self.right_inclusive,self.upper_true,self.upper = (True,int(nums[1]),int(nums[1])) if int_str[-1]==']' else (False,(int(nums[1])-1),int(nums[1]))\n",
    "            if self.lower_true > self.upper_true:\n",
    "                raise ValueError('invalid interval')\n",
    "\n",
    "    def __repr__(self, **kwargs):\n",
    "        return (self.int_str)\n",
    "        #return ['(','['][self.left_inclusive] + str(self.lower) + ',' + str(self.upper) + [')',']'][self.right_inclusive]"
   ]
  },
  {
   "cell_type": "code",
   "execution_count": null,
   "metadata": {
    "collapsed": false
   },
   "outputs": [],
   "source": [
    "# test cases\n",
    "int1 = interval('(1,5)')\n",
    "int2 = interval('(3,5]')\n",
    "print(int1)\n",
    "print(int2)\n",
    "print(int1.lower)"
   ]
  },
  {
   "cell_type": "code",
   "execution_count": null,
   "metadata": {
    "collapsed": false
   },
   "outputs": [],
   "source": [
    "upper_sing=(')',']')\n",
    "print (upper_sing[1])"
   ]
  },
  {
   "cell_type": "code",
   "execution_count": null,
   "metadata": {
    "collapsed": false
   },
   "outputs": [],
   "source": [
    "\"string\"[0]"
   ]
  },
  {
   "cell_type": "code",
   "execution_count": null,
   "metadata": {
    "collapsed": false
   },
   "outputs": [],
   "source": [
    "if \"a\" not in upper_sing:\n",
    "    print (\"yes\")"
   ]
  },
  {
   "cell_type": "code",
   "execution_count": null,
   "metadata": {
    "collapsed": false
   },
   "outputs": [],
   "source": [
    "list(map(int, \"2,3\".split(\",\")))"
   ]
  },
  {
   "cell_type": "code",
   "execution_count": null,
   "metadata": {
    "collapsed": true
   },
   "outputs": [],
   "source": [
    "class interval(object):\n",
    "\n",
    "\n",
    "    def __init__(self, int_str):\n",
    "        #Construction\n",
    "        inputstr=int_str.strip()\n",
    "        lower_sign=['(','[']\n",
    "        upper_sign=[')',']']\n",
    "        \n",
    "        if inputstr[0] not in lower_sign or inputstr[-1] not in upper_sign:\n",
    "            raise ValueError ('Invalid Input: Need an interval with bounds')\n",
    "        try:\n",
    "            num_range=list(map(int,inputstr[1:-1].split(\",\")))\n",
    "        except ValueError: print('Invalid Input: Need numerical inputs')\n",
    "        \n",
    "        self.lower_inclusive=num_range[0]+1-lower_sign.index(inputstr[0])\n",
    "        self.upper_inclusive=num_range[1]-1+upper_sign.index(inputstr[-1])\n",
    "        if self.lower_inclusive>self.upper_inclusive:\n",
    "            raise ValueError ('Invalid Input: Need logical upper and lower bounds')\n",
    "        \n",
    "        self.lower_exclusive=self.lower_inclusive-1\n",
    "        self.upper_exclusive=self.upper_inclusive+1\n",
    "        self.string=inputstr\n",
    "    \n",
    "    def __repr__(self, *args, **kwargs):\n",
    "        return self.string"
   ]
  },
  {
   "cell_type": "code",
   "execution_count": null,
   "metadata": {
    "collapsed": false
   },
   "outputs": [],
   "source": [
    "print(interval(\"(1,5)\"))\n",
    "print(interval(\"(1,5)\"))"
   ]
  },
  {
   "cell_type": "code",
   "execution_count": null,
   "metadata": {
    "collapsed": false
   },
   "outputs": [],
   "source": [
    "class interval(object):\n",
    "\n",
    "\n",
    "    def __init__(self, int_str):\n",
    "        #Constructor\n",
    "        inputstr=int_str.strip()\n",
    "        lower_sign=['(','[']\n",
    "        upper_sign=[')',']']\n",
    "        \n",
    "        #Catch\n",
    "        if inputstr[0] not in lower_sign or inputstr[-1] not in upper_sign:\n",
    "            raise ValueError ('Invalid Input: Need an interval with bounds')\n",
    "        try:\n",
    "            num_range=list(map(int,inputstr[1:-1].split(\",\")))\n",
    "        except ValueError: print('Invalid Input: Need numerical inputs')\n",
    "        \n",
    "        self.lower_inclusive=num_range[0]+1-lower_sign.index(inputstr[0])\n",
    "        self.upper_inclusive=num_range[1]-1+upper_sign.index(inputstr[-1])\n",
    "        if self.lower_inclusive>self.upper_inclusive:\n",
    "            raise ValueError ('Invalid Input: Need logical upper and lower bounds')\n",
    "        \n",
    "        #self.lower_exclusive=self.lower_inclusive-1\n",
    "        #self.upper_exclusive=self.upper_inclusive+1\n",
    "        #self.string=inputstr\n",
    "        \n",
    "        self.lower=(inputstr[0],num_range[0])\n",
    "        self.upper=(inputstr[-1],num_range[1])\n",
    "        \n",
    "    def __repr__(self, *args, **kwargs):\n",
    "        return str(self.lower[0])+str(self.lower[1])+\",\"+str(self.upper[1])+str(self.upper[0])"
   ]
  },
  {
   "cell_type": "code",
   "execution_count": null,
   "metadata": {
    "collapsed": false
   },
   "outputs": [],
   "source": [
    "print(interval(\"[1,5)\"))"
   ]
  },
  {
   "cell_type": "code",
   "execution_count": null,
   "metadata": {
    "collapsed": true
   },
   "outputs": [],
   "source": [
    "def mergeIntervals(int1, int2):\n",
    "    if (int1.lower_inclusive<int2.lower_inclusive and int1.upper_inclusive+1<int2.lower_inclusive) or (int2.lower_inclusive<int1.lower_inclusive and int2.upper_inclusive+1<int1.lower_inclusive):\n",
    "        raise ValueError ('Cannot Merge Intervals: Two intervals are not overlapped or adjacent')\n",
    "    \n",
    "    if int1.lower_inclusive<=int2.lower_inclusive:\n",
    "        new_lower=int1.lower\n",
    "    else: new_lower=int2.lower\n",
    "    \n",
    "    if int1.upper_inclusive>=int2.upper_inclusive:\n",
    "        new_upper=int1.upper\n",
    "    else: new_upper=int2.upper\n",
    "    \n",
    "    newintervalstr=str(new_lower[0])+str(new_lower[1])+\",\"+str(new_upper[1])+str(new_upper[0])\n",
    "    return interval(newintervalstr)"
   ]
  },
  {
   "cell_type": "code",
   "execution_count": null,
   "metadata": {
    "collapsed": false
   },
   "outputs": [],
   "source": [
    "int1=interval(\"(2,4]\")\n",
    "int2=interval(\"(4,7]\")\n",
    "\n",
    "mergeIntervals(int1,int2)"
   ]
  },
  {
   "cell_type": "code",
   "execution_count": null,
   "metadata": {
    "collapsed": true
   },
   "outputs": [],
   "source": [
    "def mergeable (int1, int2):\n",
    "    if (int1.lower_inclusive<int2.lower_inclusive and int1.upper_inclusive+1<int2.lower_inclusive) or (int2.lower_inclusive<int1.lower_inclusive and int2.upper_inclusive+1<int1.lower_inclusive):\n",
    "        return False\n",
    "    return True\n",
    "\n",
    "def mergeIntervals(int1, int2):\n",
    "    #Check whether the intervals are mergeable\n",
    "    if mergeable(int1, int2)==False:\n",
    "            raise ValueError ('Cannot Merge Intervals: Two intervals are not overlapped or adjacent')\n",
    "    \n",
    "    #Merge interval by re-define the interval bounds\n",
    "    if int1.lower_inclusive<=int2.lower_inclusive:\n",
    "        new_lower=int1.lower\n",
    "    else: new_lower=int2.lower\n",
    "    \n",
    "    if int1.upper_inclusive>=int2.upper_inclusive:\n",
    "        new_upper=int1.upper\n",
    "    else: new_upper=int2.upper\n",
    "    \n",
    "    #define the merged interval\n",
    "    newintervalstr=str(new_lower[0])+str(new_lower[1])+\",\"+str(new_upper[1])+str(new_upper[0])\n",
    "    return interval(newintervalstr)"
   ]
  },
  {
   "cell_type": "code",
   "execution_count": null,
   "metadata": {
    "collapsed": false
   },
   "outputs": [],
   "source": [
    "int1=interval(\"(2,8]\")\n",
    "int2=interval(\"(4,7]\")\n",
    "\n",
    "mergeIntervals(int1,int2)"
   ]
  },
  {
   "cell_type": "code",
   "execution_count": null,
   "metadata": {
    "collapsed": true
   },
   "outputs": [],
   "source": [
    "def mergeOverlapping(intervals):\n",
    "    intervals=sorted(intervals,key= lambda x: x.lower_inclusive)\n",
    "    result=[intervals[0]]\n",
    "    \n",
    "    for i in range(1, len(intervals)):\n",
    "        if mergeable(result[-1],intervals[i]):\n",
    "            result[-1]=mergeIntervals(result[-1],intervals[i])\n",
    "        else:\n",
    "            result.append(intervals[i])\n",
    "            \n",
    "    return result"
   ]
  },
  {
   "cell_type": "code",
   "execution_count": null,
   "metadata": {
    "collapsed": false
   },
   "outputs": [],
   "source": [
    "int3=interval(\"[10,15)\")\n",
    "intervals=[int1,int2, int3]\n",
    "mergeOverlapping(intervals)"
   ]
  },
  {
   "cell_type": "code",
   "execution_count": null,
   "metadata": {
    "collapsed": false
   },
   "outputs": [],
   "source": [
    "def insert(intervals, newint):\n",
    "    intervals.append(newint)\n",
    "    return mergeOverlapping(intervals)\n",
    "\n",
    "newint=interval(\"[3,7]\")\n",
    "print(insert(intervals,newint))\n"
   ]
  },
  {
   "cell_type": "code",
   "execution_count": null,
   "metadata": {
    "collapsed": false
   },
   "outputs": [],
   "source": [
    "\"jingyi,su\".split(\", \")\n"
   ]
  },
  {
   "cell_type": "code",
   "execution_count": null,
   "metadata": {
    "collapsed": true
   },
   "outputs": [],
   "source": [
    "class interval(object):\n",
    "    \n",
    "    def __init__(self, int_str):\n",
    "        #Constructor\n",
    "        inputstr=int_str.strip()\n",
    "        lower_sign=['(','[']\n",
    "        upper_sign=[')',']']\n",
    "        \n",
    "        if inputstr[0] not in lower_sign or inputstr[-1] not in upper_sign:\n",
    "            raise ValueError ('Invalid Input: Need an interval with bounds')\n",
    "        try:\n",
    "            num_range=list(map(int,inputstr[1:-1].split(\",\")))\n",
    "        except ValueError: print('Invalid Input: Need numerical inputs')\n",
    "        if len(num_range)!=2:\n",
    "            raise ValueError('Invalid Input: Two bounds are needed')\n",
    "        \n",
    "        self.lower_inclusive=num_range[0]+1-lower_sign.index(inputstr[0])\n",
    "        self.upper_inclusive=num_range[1]-1+upper_sign.index(inputstr[-1])\n",
    "        if self.lower_inclusive>self.upper_inclusive:\n",
    "            raise ValueError ('Invalid Input: Need logical upper and lower bounds')\n",
    "                \n",
    "        self.lower=(inputstr[0],num_range[0])\n",
    "        self.upper=(inputstr[-1],num_range[1])\n",
    "        \n",
    "    def __repr__(self, *args, **kwargs):\n",
    "        #print interval object\n",
    "        return str(self.lower[0])+str(self.lower[1])+\",\"+str(self.upper[1])+str(self.upper[0])"
   ]
  },
  {
   "cell_type": "code",
   "execution_count": null,
   "metadata": {
    "collapsed": false
   },
   "outputs": [],
   "source": [
    "a=interval('[2,4]')\n",
    "print(a)"
   ]
  },
  {
   "cell_type": "code",
   "execution_count": null,
   "metadata": {
    "collapsed": false
   },
   "outputs": [],
   "source": [
    "            for interval_item in intervals:\n",
    "                if interval_item==intervals[-1]:                \n",
    "                    print(interval_item)\n",
    "                else:\n",
    "                    print(str(interval_item) +\", \")\n",
    "                    \n",
    "            print(str(intervals)[1:-1])"
   ]
  },
  {
   "cell_type": "code",
   "execution_count": null,
   "metadata": {
    "collapsed": true
   },
   "outputs": [],
   "source": [
    "import sys\n",
    "\n",
    "def interface():\n",
    "    \n",
    "    try:\n",
    "        initial_list=input(\"List of intervals?\")\n",
    "    except EOFError:\n",
    "        sys.exit(0)\n",
    "    \n",
    "    if initial_list.lower()=='quit':\n",
    "        sys.exit(0)\n",
    "    \n",
    "    interval_list=initial_list.split(\", \")\n",
    "    intervals=[]\n",
    "    for interval_item in interval_list:\n",
    "        intervals.append(interval(interval_item))\n",
    "        \n",
    "    while True:\n",
    "        try:\n",
    "            next_interval=input('Interval?')\n",
    "            if next_interval=='quit':\n",
    "                break\n",
    "            new_interval_list=insert(intervals,next_interval)\n",
    "            print(str(new_interval_list)[1:-1])\n",
    "        except ValueError as msg:\n",
    "            print(str(msg))\n",
    "        except EOFError:\n",
    "            sys.exit(0)\n",
    "        \n",
    "if __name__ == '__main__':\n",
    "    interface()\n",
    "    pass"
   ]
  },
  {
   "cell_type": "code",
   "execution_count": 21,
   "metadata": {
    "collapsed": true
   },
   "outputs": [],
   "source": [
    "class interval(object):\n",
    "    \n",
    "    def __init__(self, int_str):\n",
    "        #Constructor\n",
    "        self.inputstr=int_str.strip()\n",
    "        lower_sign=['(','[']\n",
    "        upper_sign=[')',']']\n",
    "        \n",
    "        if self.inputstr[0] not in lower_sign or self.inputstr[-1] not in upper_sign:\n",
    "            raise ValueError ('Invalid Input: Need an interval with bounds')\n",
    "        try:\n",
    "            self.num_range=list(map(int,self.inputstr[1:-1].split(\",\")))\n",
    "                    \n",
    "            if len(self.num_range)!=2:\n",
    "                raise ValueError('Invalid Input: Two bounds are needed')\n",
    "\n",
    "            self.lower_inclusive=self.num_range[0]+1-lower_sign.index(self.inputstr[0])\n",
    "            self.upper_inclusive=self.num_range[1]-1+upper_sign.index(self.inputstr[-1])\n",
    "            if self.lower_inclusive>self.upper_inclusive:\n",
    "                raise ValueError ('Invalid Input: Need logical upper and lower bounds')\n",
    "\n",
    "            self.lower=(self.inputstr[0],self.num_range[0])\n",
    "            self.upper=(self.inputstr[-1],self.num_range[1])\n",
    "        except ValueError: print('Invalid Input: Need numerical inputs')\n",
    "\n",
    "        \n",
    "    def __repr__(self, *args, **kwargs):\n",
    "        #print interval object\n",
    "        return str(self.lower[0])+str(self.lower[1])+\",\"+str(self.upper[1])+str(self.upper[0])\n",
    "    \n",
    "    def __eq__(self,other):\n",
    "        #Two intervals should be equal if the included lowest&highest bounds are the same\n",
    "        #E.g. [2,5]=(1,6)=(1,5]=[2,6)\n",
    "        if not isinstance(other, interval):\n",
    "            return False\n",
    "        if self.lower_inclusive==other.lower_inclusive and self.upper_inclusive==other.upper_inclusive:\n",
    "            return True\n",
    "        else: return False"
   ]
  },
  {
   "cell_type": "code",
   "execution_count": 23,
   "metadata": {
    "collapsed": false
   },
   "outputs": [
    {
     "name": "stdout",
     "output_type": "stream",
     "text": [
      "Invalid Input: Need numerical inputs\n"
     ]
    }
   ],
   "source": [
    "from nose.tools import assert_equal\n",
    "a=interval('[2,6]')\n",
    "b=interval('(1,7.6)')\n",
    "assert_equal(a, b)\n",
    "\n",
    "#interval(' [ 2, 6] ')"
   ]
  },
  {
   "cell_type": "code",
   "execution_count": 26,
   "metadata": {
    "collapsed": false
   },
   "outputs": [
    {
     "ename": "IndexError",
     "evalue": "string index out of range",
     "output_type": "error",
     "traceback": [
      "\u001b[1;31m---------------------------------------------------------------------------\u001b[0m",
      "\u001b[1;31mIndexError\u001b[0m                                Traceback (most recent call last)",
      "\u001b[1;32m<ipython-input-26-5a9a9f0bc131>\u001b[0m in \u001b[0;36m<module>\u001b[1;34m()\u001b[0m\n\u001b[1;32m----> 1\u001b[1;33m \u001b[0minterval\u001b[0m\u001b[1;33m(\u001b[0m\u001b[1;34m''\u001b[0m\u001b[1;33m)\u001b[0m\u001b[1;33m\u001b[0m\u001b[0m\n\u001b[0m",
      "\u001b[1;32m<ipython-input-21-6f87b88da656>\u001b[0m in \u001b[0;36m__init__\u001b[1;34m(self, int_str)\u001b[0m\n\u001b[0;32m      7\u001b[0m         \u001b[0mupper_sign\u001b[0m\u001b[1;33m=\u001b[0m\u001b[1;33m[\u001b[0m\u001b[1;34m')'\u001b[0m\u001b[1;33m,\u001b[0m\u001b[1;34m']'\u001b[0m\u001b[1;33m]\u001b[0m\u001b[1;33m\u001b[0m\u001b[0m\n\u001b[0;32m      8\u001b[0m \u001b[1;33m\u001b[0m\u001b[0m\n\u001b[1;32m----> 9\u001b[1;33m         \u001b[1;32mif\u001b[0m \u001b[0mself\u001b[0m\u001b[1;33m.\u001b[0m\u001b[0minputstr\u001b[0m\u001b[1;33m[\u001b[0m\u001b[1;36m0\u001b[0m\u001b[1;33m]\u001b[0m \u001b[1;32mnot\u001b[0m \u001b[1;32min\u001b[0m \u001b[0mlower_sign\u001b[0m \u001b[1;32mor\u001b[0m \u001b[0mself\u001b[0m\u001b[1;33m.\u001b[0m\u001b[0minputstr\u001b[0m\u001b[1;33m[\u001b[0m\u001b[1;33m-\u001b[0m\u001b[1;36m1\u001b[0m\u001b[1;33m]\u001b[0m \u001b[1;32mnot\u001b[0m \u001b[1;32min\u001b[0m \u001b[0mupper_sign\u001b[0m\u001b[1;33m:\u001b[0m\u001b[1;33m\u001b[0m\u001b[0m\n\u001b[0m\u001b[0;32m     10\u001b[0m             \u001b[1;32mraise\u001b[0m \u001b[0mValueError\u001b[0m \u001b[1;33m(\u001b[0m\u001b[1;34m'Invalid Input: Need an interval with bounds'\u001b[0m\u001b[1;33m)\u001b[0m\u001b[1;33m\u001b[0m\u001b[0m\n\u001b[0;32m     11\u001b[0m         \u001b[1;32mtry\u001b[0m\u001b[1;33m:\u001b[0m\u001b[1;33m\u001b[0m\u001b[0m\n",
      "\u001b[1;31mIndexError\u001b[0m: string index out of range"
     ]
    }
   ],
   "source": [
    "interval('')"
   ]
  }
 ],
 "metadata": {
  "kernelspec": {
   "display_name": "Python [Root]",
   "language": "python",
   "name": "Python [Root]"
  },
  "language_info": {
   "codemirror_mode": {
    "name": "ipython",
    "version": 3
   },
   "file_extension": ".py",
   "mimetype": "text/x-python",
   "name": "python",
   "nbconvert_exporter": "python",
   "pygments_lexer": "ipython3",
   "version": "3.5.2"
  }
 },
 "nbformat": 4,
 "nbformat_minor": 0
}
